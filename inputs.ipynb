{
 "cells": [
  {
   "cell_type": "markdown",
   "metadata": {},
   "source": [
    "### Simple 5x4 game with 2 types of pieces\n",
    "(Ctrl + A -> Ctrl + C -> Ctrl -> V (into console))"
   ]
  },
  {
   "cell_type": "code",
   "execution_count": null,
   "metadata": {
    "vscode": {
     "languageId": "plaintext"
    }
   },
   "outputs": [],
   "source": [
    "5\n",
    "4\n",
    "add\n",
    "Pawny\n",
    "p\n",
    "+0\n",
    "3\n",
    "\n",
    "add\n",
    "Bishop\n",
    "b\n",
    "++ +- -+ --\n",
    "8\n",
    "next\n",
    "p b b p\n",
    "b p p b\n",
    "\n",
    "b p p b\n",
    "p b b p\n"
   ]
  },
  {
   "cell_type": "markdown",
   "metadata": {},
   "source": [
    "### \"Chess\"\n",
    "(simplified)"
   ]
  },
  {
   "cell_type": "code",
   "execution_count": null,
   "metadata": {
    "vscode": {
     "languageId": "plaintext"
    }
   },
   "outputs": [],
   "source": [
    "8\n",
    "8\n",
    "\n",
    "add\n",
    "Pawn\n",
    "1\n",
    "+0\n",
    "1\n",
    "\n",
    "add\n",
    "Bishop\n",
    "4\n",
    "++ +- -+ --\n",
    "8\n",
    "\n",
    "add\n",
    "Rook\n",
    "r\n",
    "+0 -0 0+ 0-\n",
    "8\n",
    "\n",
    "add\n",
    "Knight\n",
    "2\n",
    "+2,+1 +2,-1 -2,+1 -2,-1 +1,+2 +1,-2 -1,+2 -1,-2\n",
    "1\n",
    "\n",
    "add\n",
    "Queen\n",
    "Q\n",
    "+0 ++ 0+ -+ -0 -- 0- +-\n",
    "8\n",
    "\n",
    "add\n",
    "King\n",
    "K\n",
    "+0 ++ 0+ -+ -0 -- 0- +-\n",
    "1\n",
    "\n",
    "next\n",
    "r 2 4 Q K 4 2 r\n",
    "1 1 1 1 1 1 1 1\n",
    "\n",
    "\n",
    "\n",
    "\n",
    "1 1 1 1 1 1 1 1\n",
    "r 2 4 Q K 4 2 r\n"
   ]
  },
  {
   "cell_type": "markdown",
   "metadata": {},
   "source": []
  }
 ],
 "metadata": {
  "language_info": {
   "name": "python"
  }
 },
 "nbformat": 4,
 "nbformat_minor": 2
}
