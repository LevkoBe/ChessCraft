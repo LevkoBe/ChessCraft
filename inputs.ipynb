{
 "cells": [
  {
   "cell_type": "markdown",
   "metadata": {},
   "source": [
    "### Simple 5x4 game with 2 types of pieces\n",
    "(Ctrl + A -> Ctrl + C -> Ctrl -> V (into console))"
   ]
  },
  {
   "cell_type": "code",
   "execution_count": null,
   "metadata": {
    "vscode": {
     "languageId": "plaintext"
    }
   },
   "outputs": [],
   "source": [
    "create\n",
    "5\n",
    "4\n",
    "add\n",
    "Pawny\n",
    "p\n",
    "+0\n",
    "3\n",
    "\n",
    "add\n",
    "Bishop\n",
    "b\n",
    "++ +- -+ --\n",
    "8\n",
    "\n",
    "next\n",
    "p b b p\n",
    "b p p b\n",
    "\n",
    "b p p b\n",
    "p b b p\n",
    "b\n"
   ]
  },
  {
   "cell_type": "markdown",
   "metadata": {},
   "source": [
    "### \"Chess\"\n",
    "(simplified)"
   ]
  },
  {
   "cell_type": "code",
   "execution_count": null,
   "metadata": {
    "vscode": {
     "languageId": "plaintext"
    }
   },
   "outputs": [],
   "source": [
    "create\n",
    "8\n",
    "8\n",
    "\n",
    "add\n",
    "Pawn\n",
    "1\n",
    "+0\n",
    "1\n",
    "p\n",
    "\n",
    "add\n",
    "Bishop\n",
    "4\n",
    "++ +- -+ --\n",
    "8\n",
    "\n",
    "add\n",
    "Rook\n",
    "r\n",
    "+0 -0 0+ 0-\n",
    "8\n",
    "\n",
    "add\n",
    "Knight\n",
    "2\n",
    "+2,+1 +2,-1 -2,+1 -2,-1 +1,+2 +1,-2 -1,+2 -1,-2\n",
    "1\n",
    "\n",
    "add\n",
    "Queen\n",
    "Q\n",
    "+0 ++ 0+ -+ -0 -- 0- +-\n",
    "8\n",
    "\n",
    "add\n",
    "King\n",
    "K\n",
    "+0 ++ 0+ -+ -0 -- 0- +-\n",
    "1\n",
    "\n",
    "next\n",
    "r 2 4 Q K 4 2 r\n",
    "1 1 1 1 1 1 1 1\n",
    "\n",
    "\n",
    "\n",
    "\n",
    "1 1 1 1 1 1 1 1\n",
    "r 2 4 Q K 4 2 r\n",
    "K\n"
   ]
  },
  {
   "cell_type": "markdown",
   "metadata": {},
   "source": [
    "create\n",
    "10\n",
    "10\n",
    "\n",
    "add\n",
    "ninja\n",
    "n\n",
    "+1,+3 +3,+1 -1,-3 -3,-1 +1,-3 +3,-1 -1,+3 -3,+1\n",
    "3\n",
    "\n",
    "add\n",
    "knight\n",
    "k\n",
    "+2,+1 +2,-1 -2,+1 -2,-1 +1,+2 +1,-2 -1,+2 -1,-2\n",
    "1\n",
    "\n",
    "add\n",
    "man\n",
    "^\n",
    "+0 -0 0+ 0-\n",
    "2\n",
    "\n",
    "next\n",
    "^ k k n n n n k k ^ \n",
    "^ ^ ^ ^ ^ ^ ^ ^ ^ ^\n",
    " ^ ^ ^   ^ ^ ^\n",
    "^         ^\n",
    "\n",
    "\n",
    "^         ^\n",
    " ^ ^ ^   ^ ^ ^\n",
    "^ ^ ^ ^ ^ ^ ^ ^ ^ ^\n",
    "^ k k n n n n k k ^\n",
    "n\n"
   ]
  },
  {
   "cell_type": "code",
   "execution_count": null,
   "metadata": {
    "vscode": {
     "languageId": "plaintext"
    }
   },
   "outputs": [],
   "source": [
    "create\n",
    "8\n",
    "8\n",
    "\n",
    "add\n",
    "man\n",
    "^\n",
    "+0 -1,+1 -1,-1\n",
    "10\n",
    "\n",
    "add\n",
    "ninja\n",
    "*\n",
    "+0 ++ 0+ -+ -0 -- 0- +- +5,+0 +5,+5 +5,-5\n",
    "2\n",
    "n\n",
    "\n",
    "next\n",
    "^ ^ ^ * * ^ ^ ^\n",
    "^ ^ ^ ^ ^ ^ ^ ^ \n",
    "\n",
    "\n",
    "\n",
    "\n",
    "^ ^ ^ ^ ^ ^ ^ ^\n",
    "^ ^ ^ * * ^ ^ ^\n",
    "*\n"
   ]
  },
  {
   "cell_type": "markdown",
   "metadata": {},
   "source": [
    "### If we play with clones, you should understand that there's one 'real', and others...\n",
    "To get a better idea of it, try to kill the only clone of the humans after it just made a move"
   ]
  },
  {
   "cell_type": "code",
   "execution_count": null,
   "metadata": {
    "vscode": {
     "languageId": "plaintext"
    }
   },
   "outputs": [],
   "source": [
    "create\n",
    "5\n",
    "5\n",
    "\n",
    "add\n",
    "clone\n",
    "c\n",
    "+0 -0 0+ 0-\n",
    "3\n",
    "c\n",
    "\n",
    "add\n",
    "human\n",
    "x\n",
    "+0 0+ 0- -0\n",
    "3\n",
    "n\n",
    "\n",
    "next\n",
    "c c c c c\n",
    "\n",
    "x x c x x\n",
    "x x c x x\n",
    "x x x x x\n",
    "c\n"
   ]
  },
  {
   "cell_type": "markdown",
   "metadata": {},
   "source": [
    "### Chess with all ninjas, and promoting to clones"
   ]
  },
  {
   "cell_type": "code",
   "execution_count": null,
   "metadata": {
    "vscode": {
     "languageId": "plaintext"
    }
   },
   "outputs": [],
   "source": [
    "create\n",
    "8\n",
    "8\n",
    "\n",
    "add\n",
    "Pawn\n",
    "1\n",
    "+0 ++ +-\n",
    "2\n",
    "p n\n",
    "\n",
    "add\n",
    "Bishop\n",
    "4\n",
    "++ +- -+ --\n",
    "7\n",
    "n\n",
    "\n",
    "add\n",
    "Rook\n",
    "r\n",
    "+0 -0 0+ 0-\n",
    "4\n",
    "n\n",
    "\n",
    "add\n",
    "Knight\n",
    "2\n",
    "+2,+1 +2,-1 -2,+1 -2,-1 +1,+2 +1,-2 -1,+2 -1,-2\n",
    "2\n",
    "n\n",
    "\n",
    "add\n",
    "Queen\n",
    "Q\n",
    "+0 ++ 0+ -+ -0 -- 0- +-\n",
    "4\n",
    "n\n",
    "\n",
    "add\n",
    "King\n",
    "K\n",
    "+0 ++ 0+ -+ -0 -- 0- +-\n",
    "2\n",
    "n\n",
    "\n",
    "add\n",
    "Clone\n",
    "#\n",
    "+0 ++ 0+ -+ -0 -- 0- +- +5,+0 -5,+0 +0,+5 +0,-5\n",
    "2\n",
    "n c\n",
    "\n",
    "next\n",
    "r 2 4 Q K 4 2 r\n",
    "1 1 1 1 1 1 1 1\n",
    "\n",
    "\n",
    "\n",
    "\n",
    "1 1 1 1 1 1 1 1\n",
    "r 2 4 Q K 4 2 r\n",
    "K\n"
   ]
  }
 ],
 "metadata": {
  "language_info": {
   "name": "python"
  }
 },
 "nbformat": 4,
 "nbformat_minor": 2
}
