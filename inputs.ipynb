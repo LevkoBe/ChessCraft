{
 "cells": [
  {
   "cell_type": "markdown",
   "metadata": {},
   "source": [
    "### Simple 5x4 game with 2 types of pieces\n",
    "(Ctrl + A -> Ctrl + C -> Ctrl -> V (into console))"
   ]
  },
  {
   "cell_type": "code",
   "execution_count": null,
   "metadata": {
    "vscode": {
     "languageId": "plaintext"
    }
   },
   "outputs": [],
   "source": [
    "5\n",
    "4\n",
    "add\n",
    "Pawny\n",
    "p\n",
    "+0\n",
    "1\n",
    "\n",
    "add\n",
    "Bishop\n",
    "b\n",
    "++ +- -+ --\n",
    "8\n",
    "next\n",
    "p b b p\n",
    "b p p b\n",
    "\n",
    "b p p b\n",
    "p b b p\n"
   ]
  }
 ],
 "metadata": {
  "language_info": {
   "name": "python"
  }
 },
 "nbformat": 4,
 "nbformat_minor": 2
}
